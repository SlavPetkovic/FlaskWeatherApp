{
 "cells": [
  {
   "cell_type": "markdown",
   "source": [],
   "metadata": {
    "collapsed": false
   },
   "id": "937ab31d276dc06e"
  },
  {
   "cell_type": "code",
   "execution_count": 2,
   "outputs": [
    {
     "name": "stdout",
     "output_type": "stream",
     "text": [
      "FlaskWeatherApp\n",
      "├── .idea\n",
      "│   ├── .gitignore\n",
      "│   ├── FlaskWeatherApp.iml\n",
      "│   ├── inspectionProfiles\n",
      "│   ├── misc.xml\n",
      "│   ├── modules.xml\n",
      "│   └── workspace.xml\n",
      "├── data\n",
      "├── lib\n",
      "│   ├── tools.py\n",
      "│   └── __pycache__\n",
      "├── LICENSE.txt\n",
      "├── logs\n",
      "│   └── Process.log\n",
      "├── main.py\n",
      "├── notebooks\n",
      "│   └── SandBox.ipynb\n",
      "├── parameters\n",
      "│   ├── config.json\n",
      "│   ├── config_template.json\n",
      "│   └── logs.ini\n",
      "├── README.md\n",
      "├── SetUp.py\n",
      "├── static\n",
      "│   ├── images\n",
      "│   └── style.css\n",
      "├── templates\n",
      "│   ├── index.html\n",
      "│   └── template.html\n",
      "└── venv\n",
      "    ├── .gitignore\n",
      "    ├── etc\n",
      "    ├── Lib\n",
      "    ├── pyvenv.cfg\n",
      "    ├── Scripts\n",
      "    └── share\n",
      "\\n16 directories, 20 files\n"
     ]
    }
   ],
   "source": [
    "from lib.tools import tree\n",
    "from pathlib import Path\n",
    "from itertools import islice\n",
    "tree(Path.home() / 'PycharmProjects/FlaskWeatherApp', level=2)"
   ],
   "metadata": {
    "collapsed": false,
    "ExecuteTime": {
     "end_time": "2023-10-23T04:46:18.357888800Z",
     "start_time": "2023-10-23T04:46:18.341246900Z"
    }
   },
   "id": "4210a84d46f6fc51"
  }
 ],
 "metadata": {
  "kernelspec": {
   "display_name": "Python 3",
   "language": "python",
   "name": "python3"
  },
  "language_info": {
   "codemirror_mode": {
    "name": "ipython",
    "version": 2
   },
   "file_extension": ".py",
   "mimetype": "text/x-python",
   "name": "python",
   "nbconvert_exporter": "python",
   "pygments_lexer": "ipython2",
   "version": "2.7.6"
  }
 },
 "nbformat": 4,
 "nbformat_minor": 5
}
